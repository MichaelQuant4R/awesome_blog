{
 "cells": [
  {
   "cell_type": "code",
   "execution_count": 1,
   "metadata": {},
   "outputs": [],
   "source": [
    "from models import (db, User, Notification, Comment, Reply, Blog)"
   ]
  },
  {
   "cell_type": "code",
   "execution_count": 15,
   "metadata": {},
   "outputs": [
    {
     "data": {
      "text/plain": [
       "<User casca, ID 2>"
      ]
     },
     "execution_count": 15,
     "metadata": {},
     "output_type": "execute_result"
    }
   ],
   "source": [
    "notify_list = []\n",
    "\n",
    "user = User.query.filter_by(id = 2).first()\n",
    "user"
   ]
  },
  {
   "cell_type": "code",
   "execution_count": 26,
   "metadata": {},
   "outputs": [
    {
     "data": {
      "text/plain": [
       "[<Notification 1, type comment, userID 2>,\n",
       " <Notification 2, type comment, userID 2>,\n",
       " <Notification 3, type comment, userID 2>,\n",
       " <Notification 4, type comment, userID 2>,\n",
       " <Notification 5, type comment, userID 2>,\n",
       " <Notification 6, type comment, userID 2>,\n",
       " <Notification 7, type comment, userID 2>,\n",
       " <Notification 8, type comment, userID 9>,\n",
       " <Notification 9, type comment, userID 9>,\n",
       " <Notification 10, type comment, userID 2>,\n",
       " <Notification 11, type reply, userID 1>,\n",
       " <Notification 12, type reply, userID 9>]"
      ]
     },
     "execution_count": 26,
     "metadata": {},
     "output_type": "execute_result"
    }
   ],
   "source": [
    "Notification.query.all()"
   ]
  },
  {
   "cell_type": "code",
   "execution_count": 19,
   "metadata": {},
   "outputs": [
    {
     "data": {
      "text/plain": [
       "{'_sa_instance_state': <sqlalchemy.orm.state.InstanceState at 0x14a59d68148>,\n",
       " 'comment': 'Notify test 3!',\n",
       " 'blog_id': 1,\n",
       " 'timestamp': '2020/12/07 15:53:35',\n",
       " 'id': 12,\n",
       " 'user_id': 9}"
      ]
     },
     "execution_count": 19,
     "metadata": {},
     "output_type": "execute_result"
    }
   ],
   "source": [
    "Comment.query.filter_by(id = 12).first().__dict__"
   ]
  },
  {
   "cell_type": "code",
   "execution_count": null,
   "metadata": {},
   "outputs": [],
   "source": []
  },
  {
   "cell_type": "code",
   "execution_count": null,
   "metadata": {},
   "outputs": [],
   "source": []
  },
  {
   "cell_type": "code",
   "execution_count": null,
   "metadata": {},
   "outputs": [],
   "source": []
  },
  {
   "cell_type": "code",
   "execution_count": null,
   "metadata": {},
   "outputs": [],
   "source": []
  },
  {
   "cell_type": "code",
   "execution_count": 11,
   "metadata": {},
   "outputs": [],
   "source": [
    "db.session.delete(Notification.query.all()[-1])\n",
    "db.session.commit()"
   ]
  },
  {
   "cell_type": "code",
   "execution_count": 12,
   "metadata": {},
   "outputs": [
    {
     "data": {
      "text/plain": [
       "{'_sa_instance_state': <sqlalchemy.orm.state.InstanceState at 0x14a59c9f808>,\n",
       " 'text_type': 'comment',\n",
       " 'timestamp': '2020/12/07 15:28:22',\n",
       " 'id': 8,\n",
       " 'text_id': 10,\n",
       " 'user_id': 9,\n",
       " 'bell': True}"
      ]
     },
     "execution_count": 12,
     "metadata": {},
     "output_type": "execute_result"
    }
   ],
   "source": [
    "notify = Notification.query.all()\n",
    "\n",
    "notify[-1].__dict__"
   ]
  },
  {
   "cell_type": "code",
   "execution_count": 8,
   "metadata": {},
   "outputs": [
    {
     "data": {
      "text/plain": [
       "{'_sa_instance_state': <sqlalchemy.orm.state.InstanceState at 0x14a59c9b988>,\n",
       " 'text_type': 'comment',\n",
       " 'timestamp': '2020/12/07 15:49:57',\n",
       " 'id': 10,\n",
       " 'text_id': 11,\n",
       " 'user_id': 2,\n",
       " 'bell': True}"
      ]
     },
     "execution_count": 8,
     "metadata": {},
     "output_type": "execute_result"
    }
   ],
   "source": [
    "notify[9].__dict__"
   ]
  },
  {
   "cell_type": "code",
   "execution_count": 17,
   "metadata": {},
   "outputs": [
    {
     "data": {
      "text/plain": [
       "[<User bob, ID 1>,\n",
       " <User casca, ID 2>,\n",
       " <User temp, ID 3>,\n",
       " <User akira, ID 4>,\n",
       " <User miguel, ID 5>,\n",
       " <User sarah, ID 6>,\n",
       " <User raiden, ID 7>,\n",
       " <User guts, ID 8>,\n",
       " <User alita, ID 9>,\n",
       " <User cloud, ID 10>,\n",
       " <User tifa, ID 11>]"
      ]
     },
     "execution_count": 17,
     "metadata": {},
     "output_type": "execute_result"
    }
   ],
   "source": [
    "User.query.all()"
   ]
  },
  {
   "cell_type": "code",
   "execution_count": 23,
   "metadata": {},
   "outputs": [
    {
     "data": {
      "text/plain": [
       "{'_sa_instance_state': <sqlalchemy.orm.state.InstanceState at 0x14a59d6b608>,\n",
       " 'text_type': 'reply',\n",
       " 'timestamp': '2020/12/08 02:40:05',\n",
       " 'id': 11,\n",
       " 'text_id': 14,\n",
       " 'user_id': 1,\n",
       " 'bell': True}"
      ]
     },
     "execution_count": 23,
     "metadata": {},
     "output_type": "execute_result"
    }
   ],
   "source": [
    "User.query.filter_by(id = 1).first().notifications.all()[0].__dict__"
   ]
  },
  {
   "cell_type": "code",
   "execution_count": 24,
   "metadata": {},
   "outputs": [
    {
     "data": {
      "text/plain": [
       "{'_sa_instance_state': <sqlalchemy.orm.state.InstanceState at 0x14a59d73248>,\n",
       " 'comment_id': 12,\n",
       " 'reply': 'This is a reply notification to bob!',\n",
       " 'timestamp': '2020/12/08 02:40:05',\n",
       " 'id': 14,\n",
       " 'user_id': 9}"
      ]
     },
     "execution_count": 24,
     "metadata": {},
     "output_type": "execute_result"
    }
   ],
   "source": [
    "Reply.query.filter_by(id = 14).first().__dict__"
   ]
  },
  {
   "cell_type": "code",
   "execution_count": null,
   "metadata": {},
   "outputs": [],
   "source": []
  },
  {
   "cell_type": "code",
   "execution_count": null,
   "metadata": {},
   "outputs": [],
   "source": []
  },
  {
   "cell_type": "code",
   "execution_count": 25,
   "metadata": {},
   "outputs": [
    {
     "data": {
      "text/plain": [
       "[<Notification 1, type comment, userID 2>,\n",
       " <Notification 2, type comment, userID 2>,\n",
       " <Notification 3, type comment, userID 2>,\n",
       " <Notification 4, type comment, userID 2>,\n",
       " <Notification 5, type comment, userID 2>,\n",
       " <Notification 6, type comment, userID 2>,\n",
       " <Notification 7, type comment, userID 2>,\n",
       " <Notification 10, type comment, userID 2>]"
      ]
     },
     "execution_count": 25,
     "metadata": {},
     "output_type": "execute_result"
    }
   ],
   "source": [
    "user.notifications.all()"
   ]
  },
  {
   "cell_type": "code",
   "execution_count": 5,
   "metadata": {},
   "outputs": [
    {
     "data": {
      "text/plain": [
       "[]"
      ]
     },
     "execution_count": 5,
     "metadata": {},
     "output_type": "execute_result"
    }
   ],
   "source": [
    "Comment.query.filter_by(user_id = 2).all()"
   ]
  },
  {
   "cell_type": "code",
   "execution_count": 7,
   "metadata": {},
   "outputs": [
    {
     "name": "stdout",
     "output_type": "stream",
     "text": [
      "<Reply 1, comID 1, userID 2>\n"
     ]
    }
   ],
   "source": [
    "blog = Blog.query.filter_by(id = 1).first()\n",
    "comments = blog.comments.all()\n",
    "for comm in comments:\n",
    "    \n",
    "    replies = comm.replies.all()\n",
    "    \n",
    "    for rep in replies:\n",
    "        \n",
    "        \n",
    "        if rep.user_id == 2:\n",
    "            \n",
    "            print(rep)"
   ]
  },
  {
   "cell_type": "code",
   "execution_count": 11,
   "metadata": {},
   "outputs": [
    {
     "data": {
      "text/plain": [
       "[<Comment 1, blogID 1, userID 1>,\n",
       " <Comment 2, blogID 1, userID 1>,\n",
       " <Comment 3, blogID 1, userID 7>,\n",
       " <Comment 4, blogID 1, userID 9>,\n",
       " <Comment 5, blogID 1, userID 10>,\n",
       " <Comment 6, blogID 1, userID 4>,\n",
       " <Comment 7, blogID 1, userID 8>]"
      ]
     },
     "execution_count": 11,
     "metadata": {},
     "output_type": "execute_result"
    }
   ],
   "source": [
    "Comment.query.all()"
   ]
  },
  {
   "cell_type": "code",
   "execution_count": 10,
   "metadata": {},
   "outputs": [],
   "source": [
    "db.session.delete(Comment.query.all()[-1])\n",
    "db.session.commit()"
   ]
  },
  {
   "cell_type": "code",
   "execution_count": 12,
   "metadata": {},
   "outputs": [
    {
     "data": {
      "text/plain": [
       "[<User bob, ID 1>,\n",
       " <User casca, ID 2>,\n",
       " <User temp, ID 3>,\n",
       " <User akira, ID 4>,\n",
       " <User miguel, ID 5>,\n",
       " <User sarah, ID 6>,\n",
       " <User raiden, ID 7>,\n",
       " <User guts, ID 8>,\n",
       " <User alita, ID 9>,\n",
       " <User cloud, ID 10>,\n",
       " <User tifa, ID 11>]"
      ]
     },
     "execution_count": 12,
     "metadata": {},
     "output_type": "execute_result"
    }
   ],
   "source": [
    "User.query.all()"
   ]
  },
  {
   "cell_type": "code",
   "execution_count": 13,
   "metadata": {},
   "outputs": [
    {
     "data": {
      "text/plain": [
       "models.Notification"
      ]
     },
     "execution_count": 13,
     "metadata": {},
     "output_type": "execute_result"
    }
   ],
   "source": [
    "Notification()"
   ]
  },
  {
   "cell_type": "code",
   "execution_count": null,
   "metadata": {},
   "outputs": [],
   "source": []
  },
  {
   "cell_type": "code",
   "execution_count": null,
   "metadata": {},
   "outputs": [],
   "source": []
  },
  {
   "cell_type": "code",
   "execution_count": null,
   "metadata": {},
   "outputs": [],
   "source": [
    "user = User.query.filter_by(id = 1).first()\n",
    "messages = user.comments.filter_by(id = 1).first().replies.all()\n",
    "\n",
    "\n",
    "\n",
    "notify_list = []\n",
    "\n",
    "for msg in messages:\n",
    "\n",
    "    print(msg)\n",
    "\n",
    "    user = User.query.filter\n",
    "    notify_list.append({\"text_type\": \"reply\",\n",
    "                       \"author\": msg.user.username,\n",
    "                        \"user_id\": msg.user.id,\n",
    "                        \"image\": msg.user.get_image(),\n",
    "                       \"id\": msg.id,\n",
    "                       \"text\": msg.reply,\n",
    "                       \"blog_id\": msg.comment.blog_id,\n",
    "                        \"blog_title\": msg.comment.blog.title,\n",
    "                       \"timestamp\": read_datetime(msg.timestamp)})\n",
    "\n"
   ]
  },
  {
   "cell_type": "code",
   "execution_count": null,
   "metadata": {},
   "outputs": [],
   "source": [
    "from filters import read_datetime\n",
    "user = User.query.filter_by(id = 2).first()\n",
    "\n",
    "notifications = user.notifications.all()\n",
    "\n",
    "notify_list = []\n",
    "\n",
    "if notifications != []:\n",
    "    \n",
    "    notifications = notifications[::-1]\n",
    "    \n",
    "    \n",
    "    for msg in notifications:\n",
    "        \n",
    "        \n",
    "        if msg.text_type == \"comment\":\n",
    "            \n",
    "            \n",
    "            ## only for blog author\n",
    "            \n",
    "            comment = Comment.query.filter_by(id = msg.text_id).first()\n",
    "            \n",
    "            text_author = User.query.filter_by(id = comment.user_id).first()\n",
    "            \n",
    "            notify_list.append({\"text_type\": \"comment\",\n",
    "                               \"author\": text_author.username,\n",
    "                               \"user_id\": text_author.id,\n",
    "                               \"image\": text_author.get_image(),\n",
    "                               \"id\": msg.id,\n",
    "                                \"text\": comment.comment,\n",
    "                               \"timestamp\": read_datetime(msg.timestamp),\n",
    "                               \"blog_id\": text_author.blog_id,\n",
    "                               \"blog_title\": comment.blog.title})\n",
    "            \n",
    "        else:\n",
    "            \n",
    "            ### reply for user or blog author\n",
    "            \n",
    "            reply = Reply.query.filter_by(id = msg.text_id).first()\n",
    "            \n",
    "            text_author = User.query.filter_by(id = reply.user_id).first()\n",
    "            \n",
    "            notify_list.append({\"text_type\": \"comment\",\n",
    "                               \"author\": text_author.username,\n",
    "                               \"user_id\": text_author.id,\n",
    "                               \"image\": text_author.get_image(),\n",
    "                               \"id\": msg.id,\n",
    "                                \"text\": reply.reply,\n",
    "                               \"timestamp\": read_datetime(msg.timestamp),\n",
    "                               \"blog_id\": text_author.blog_id,\n",
    "                               \"blog_title\": reply.blog.title})\n",
    "            "
   ]
  },
  {
   "cell_type": "code",
   "execution_count": 28,
   "metadata": {},
   "outputs": [],
   "source": [
    "user = User.query.filter_by(id = 2).first()\n",
    "\n",
    "notifications = user.notifications.all()\n",
    "\n",
    "notify_list = []"
   ]
  },
  {
   "cell_type": "code",
   "execution_count": 31,
   "metadata": {},
   "outputs": [
    {
     "data": {
      "text/plain": [
       "<Notification 1, type comment, userID 2>"
      ]
     },
     "execution_count": 31,
     "metadata": {},
     "output_type": "execute_result"
    }
   ],
   "source": [
    "notifications[0]"
   ]
  },
  {
   "cell_type": "code",
   "execution_count": null,
   "metadata": {},
   "outputs": [],
   "source": []
  },
  {
   "cell_type": "code",
   "execution_count": null,
   "metadata": {},
   "outputs": [],
   "source": []
  },
  {
   "cell_type": "code",
   "execution_count": null,
   "metadata": {},
   "outputs": [],
   "source": []
  },
  {
   "cell_type": "code",
   "execution_count": null,
   "metadata": {},
   "outputs": [],
   "source": []
  },
  {
   "cell_type": "code",
   "execution_count": null,
   "metadata": {},
   "outputs": [],
   "source": []
  },
  {
   "cell_type": "code",
   "execution_count": null,
   "metadata": {},
   "outputs": [],
   "source": []
  },
  {
   "cell_type": "code",
   "execution_count": null,
   "metadata": {},
   "outputs": [],
   "source": []
  },
  {
   "cell_type": "code",
   "execution_count": null,
   "metadata": {},
   "outputs": [],
   "source": []
  },
  {
   "cell_type": "code",
   "execution_count": null,
   "metadata": {},
   "outputs": [],
   "source": []
  }
 ],
 "metadata": {
  "hide_input": false,
  "kernelspec": {
   "display_name": "Python 3",
   "language": "python",
   "name": "python3"
  },
  "language_info": {
   "codemirror_mode": {
    "name": "ipython",
    "version": 3
   },
   "file_extension": ".py",
   "mimetype": "text/x-python",
   "name": "python",
   "nbconvert_exporter": "python",
   "pygments_lexer": "ipython3",
   "version": "3.7.6"
  },
  "toc": {
   "base_numbering": 1,
   "nav_menu": {},
   "number_sections": true,
   "sideBar": true,
   "skip_h1_title": false,
   "title_cell": "Table of Contents",
   "title_sidebar": "Contents",
   "toc_cell": false,
   "toc_position": {},
   "toc_section_display": true,
   "toc_window_display": false
  }
 },
 "nbformat": 4,
 "nbformat_minor": 4
}
