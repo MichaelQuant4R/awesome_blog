{
 "cells": [
  {
   "cell_type": "code",
   "execution_count": 5,
   "metadata": {},
   "outputs": [
    {
     "data": {
      "text/plain": [
       "b'I\\x94\\x90\\xdf\\x15\\x88\\x1e\\xb2\\xa2\\xa9-k\\x93\\xdf\\\\\\xaa\\xa5\\xa2\\xedQ\\xc08\\xaa\"\"Q\\xc0\\xd0r\\x15\\x1c\\x8c\\x80\\xc5Ik$\\x10\\xf3\\x06'"
      ]
     },
     "execution_count": 5,
     "metadata": {},
     "output_type": "execute_result"
    }
   ],
   "source": [
    "import os\n",
    "\n",
    "os.urandom(40)"
   ]
  },
  {
   "cell_type": "code",
   "execution_count": 6,
   "metadata": {},
   "outputs": [
    {
     "data": {
      "text/plain": [
       "str"
      ]
     },
     "execution_count": 6,
     "metadata": {},
     "output_type": "execute_result"
    }
   ],
   "source": [
    "type('I\\x94\\x90\\xdf\\x15\\x88\\x1e\\xb2\\xa2\\xa9-k\\x93\\xdf\\\\\\xaa\\xa5\\xa2\\xedQ\\xc08\\xaa\"\"Q\\xc0\\xd0r\\x15\\x1c\\x8c\\x80\\xc5Ik$\\x10\\xf3\\x06')"
   ]
  },
  {
   "cell_type": "code",
   "execution_count": 7,
   "metadata": {},
   "outputs": [
    {
     "name": "stdout",
     "output_type": "stream",
     "text": [
      "Microsoft Windows [Version 10.0.18363.1198]\r\n",
      "(c) 2019 Microsoft Corporation. All rights reserved.\r\n",
      "\r\n",
      "C:\\Users\\Micha\\OneDrive\\Desktop\\HOLISTIC\\COURSES\\deployed\\myapp>pip list\n",
      "Package                  Version\r\n",
      "------------------------ ---------\r\n",
      "alembic                  1.4.3\r\n",
      "appdirs                  1.4.4\r\n",
      "arrow                    0.17.0\r\n",
      "backcall                 0.2.0\r\n",
      "beautifulsoup4           4.9.3\r\n",
      "boto3                    1.15.16\r\n",
      "botocore                 1.18.16\r\n",
      "bs4                      0.0.1\r\n",
      "cachetools               4.1.1\r\n",
      "certifi                  2020.6.20\r\n",
      "cffi                     1.14.3\r\n",
      "chardet                  3.0.4\r\n",
      "click                    7.1.2\r\n",
      "colorama                 0.4.4\r\n",
      "cryptography             3.1.1\r\n",
      "dacite                   1.5.1\r\n",
      "decorator                4.4.2\r\n",
      "dnspython                2.0.0\r\n",
      "email-validator          1.1.1\r\n",
      "Flask                    1.1.2\r\n",
      "Flask-Admin              1.5.6\r\n",
      "Flask-CKEditor           0.4.4.1\r\n",
      "Flask-Gravatar           0.5.0\r\n",
      "Flask-Login              0.5.0\r\n",
      "Flask-Migrate            2.5.3\r\n",
      "Flask-Scss               0.5\r\n",
      "Flask-SocketIO           4.3.1\r\n",
      "Flask-SQLAlchemy         2.4.4\r\n",
      "Flask-WTF                0.14.3\r\n",
      "gevent                   20.9.0\r\n",
      "gevent-websocket         0.10.1\r\n",
      "google-api-core          1.23.0\r\n",
      "google-api-python-client 1.12.5\r\n",
      "google-auth              1.23.0\r\n",
      "google-auth-httplib2     0.0.4\r\n",
      "googleapis-common-protos 1.52.0\r\n",
      "greenlet                 0.4.17\r\n",
      "httplib2                 0.18.1\r\n",
      "idna                     2.10\r\n",
      "ipython                  7.18.1\r\n",
      "ipython-genutils         0.2.0\r\n",
      "itsdangerous             1.1.0\r\n",
      "jedi                     0.17.2\r\n",
      "Jinja2                   2.11.2\r\n",
      "jmespath                 0.10.0\r\n",
      "Mako                     1.1.3\r\n",
      "MarkupSafe               1.1.1\r\n",
      "numpy                    1.19.2\r\n",
      "pandas                   1.1.3\r\n",
      "pandasgui                0.2.5.1\r\n",
      "parso                    0.7.1\r\n",
      "paypal-payouts-sdk       1.0.0\r\n",
      "paypalhttp               1.0.0\r\n",
      "paypalrestsdk            1.13.1\r\n",
      "pickleshare              0.7.5\r\n",
      "Pillow                   8.0.1\r\n",
      "pip                      20.2.3\r\n",
      "plotly                   4.12.0\r\n",
      "prompt-toolkit           3.0.8\r\n",
      "protobuf                 3.13.0\r\n",
      "pyasn1                   0.4.8\r\n",
      "pyasn1-modules           0.2.8\r\n",
      "pycparser                2.20\r\n",
      "pygal                    2.4.0\r\n",
      "Pygments                 2.7.2\r\n",
      "pynput                   1.7.1\r\n",
      "pyOpenSSL                19.1.0\r\n",
      "PyPDF2                   1.26.0\r\n",
      "PyQt5                    5.15.1\r\n",
      "PyQt5-sip                12.8.1\r\n",
      "PyQtWebEngine            5.15.1\r\n",
      "pyScss                   1.3.7\r\n",
      "python-dateutil          2.8.1\r\n",
      "python-editor            1.0.4\r\n",
      "python-engineio          3.13.2\r\n",
      "python-socketio          4.6.0\r\n",
      "pytz                     2020.1\r\n",
      "reportlab                3.5.53\r\n",
      "requests                 2.24.0\r\n",
      "retrying                 1.3.3\r\n",
      "rsa                      4.6\r\n",
      "s3transfer               0.3.3\r\n",
      "setuptools               49.2.1\r\n",
      "simplejson               3.17.2\r\n",
      "six                      1.15.0\r\n",
      "soupsieve                2.0.1\r\n",
      "SQLAlchemy               1.3.19\r\n",
      "stripe                   2.55.0\r\n",
      "traitlets                5.0.5\r\n",
      "uritemplate              3.0.1\r\n",
      "urllib3                  1.25.10\r\n",
      "wcwidth                  0.2.5\r\n",
      "Werkzeug                 1.0.1\r\n",
      "WTForm                   1.0\r\n",
      "WTForms                  2.3.3\r\n",
      "zope.event               4.5.0\r\n",
      "zope.interface           5.1.2\r\n",
      "\r\n",
      "C:\\Users\\Micha\\OneDrive\\Desktop\\HOLISTIC\\COURSES\\deployed\\myapp>"
     ]
    },
    {
     "name": "stderr",
     "output_type": "stream",
     "text": [
      "WARNING: You are using pip version 20.2.3; however, version 20.3.1 is available.\r\n",
      "You should consider upgrading via the 'c:\\users\\micha\\appdata\\local\\programs\\python\\python39\\python.exe -m pip install --upgrade pip' command.\r\n"
     ]
    }
   ],
   "source": [
    "%%cmd\n",
    "pip list"
   ]
  },
  {
   "cell_type": "code",
   "execution_count": null,
   "metadata": {},
   "outputs": [],
   "source": [
    "%29Scarfie29%"
   ]
  }
 ],
 "metadata": {
  "hide_input": false,
  "kernelspec": {
   "display_name": "Python 3",
   "language": "python",
   "name": "python3"
  },
  "language_info": {
   "codemirror_mode": {
    "name": "ipython",
    "version": 3
   },
   "file_extension": ".py",
   "mimetype": "text/x-python",
   "name": "python",
   "nbconvert_exporter": "python",
   "pygments_lexer": "ipython3",
   "version": "3.7.6"
  },
  "toc": {
   "base_numbering": 1,
   "nav_menu": {},
   "number_sections": true,
   "sideBar": true,
   "skip_h1_title": false,
   "title_cell": "Table of Contents",
   "title_sidebar": "Contents",
   "toc_cell": false,
   "toc_position": {},
   "toc_section_display": true,
   "toc_window_display": false
  }
 },
 "nbformat": 4,
 "nbformat_minor": 4
}
