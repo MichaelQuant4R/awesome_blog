{
 "cells": [
  {
   "cell_type": "code",
   "execution_count": 1,
   "metadata": {},
   "outputs": [],
   "source": [
    "from models import (app, db, User, Blog)\n"
   ]
  },
  {
   "cell_type": "code",
   "execution_count": 7,
   "metadata": {},
   "outputs": [
    {
     "data": {
      "text/plain": [
       "[<Blog 1, userID 2>,\n",
       " <Blog 2, userID 2>,\n",
       " <Blog 3, userID 2>,\n",
       " <Blog 4, userID 2>,\n",
       " <Blog 5, userID 2>,\n",
       " <Blog 6, userID 2>,\n",
       " <Blog 7, userID 2>,\n",
       " <Blog 8, userID 2>,\n",
       " <Blog 9, userID 2>,\n",
       " <Blog 10, userID 2>]"
      ]
     },
     "execution_count": 7,
     "metadata": {},
     "output_type": "execute_result"
    }
   ],
   "source": [
    "Blog.query.all()"
   ]
  },
  {
   "cell_type": "code",
   "execution_count": 6,
   "metadata": {},
   "outputs": [],
   "source": [
    "blog = Blog.query.filter_by(id = 1).first()\n",
    "blog.title = \"TESTING\"\n",
    "db.session.commit()"
   ]
  },
  {
   "cell_type": "code",
   "execution_count": null,
   "metadata": {},
   "outputs": [],
   "source": [
    "blog.title"
   ]
  },
  {
   "cell_type": "code",
   "execution_count": null,
   "metadata": {},
   "outputs": [],
   "source": []
  },
  {
   "cell_type": "code",
   "execution_count": null,
   "metadata": {},
   "outputs": [],
   "source": []
  },
  {
   "cell_type": "code",
   "execution_count": null,
   "metadata": {},
   "outputs": [],
   "source": []
  },
  {
   "cell_type": "code",
   "execution_count": null,
   "metadata": {},
   "outputs": [],
   "source": []
  },
  {
   "cell_type": "code",
   "execution_count": null,
   "metadata": {},
   "outputs": [],
   "source": []
  },
  {
   "cell_type": "code",
   "execution_count": 17,
   "metadata": {},
   "outputs": [
    {
     "data": {
      "text/plain": [
       "[<Blog 1, userID 2>,\n",
       " <Blog 2, userID 2>,\n",
       " <Blog 3, userID 2>,\n",
       " <Blog 4, userID 2>,\n",
       " <Blog 5, userID 2>,\n",
       " <Blog 6, userID 2>,\n",
       " <Blog 7, userID 2>,\n",
       " <Blog 8, userID 2>,\n",
       " <Blog 9, userID 2>,\n",
       " <Blog 10, userID 2>]"
      ]
     },
     "execution_count": 17,
     "metadata": {},
     "output_type": "execute_result"
    }
   ],
   "source": [
    "Blog.query.all()"
   ]
  },
  {
   "cell_type": "code",
   "execution_count": 14,
   "metadata": {},
   "outputs": [
    {
     "data": {
      "text/plain": [
       "{'_sa_instance_state': <sqlalchemy.orm.state.InstanceState at 0x247c99f0488>,\n",
       " 'id': 1,\n",
       " 'data': '\\n<h1 style=\"text-align: left; \"><b><u>This is a super cool blog!\\n</u></b></h1><p><br></p><ul><li>Apples</li><li>Oranges</li><li>Berries</li></ul><p><br></p>\\n<script>\\n\\n\\n\\n\\n\\n</script>\\n\\n\\n\\n\\n\\n',\n",
       " 'timestamp': '2020/11/26 17:37:30',\n",
       " 'title': 'TESTING',\n",
       " 'user_id': 2}"
      ]
     },
     "execution_count": 14,
     "metadata": {},
     "output_type": "execute_result"
    }
   ],
   "source": [
    "Blog.query.all()[0].__dict__"
   ]
  },
  {
   "cell_type": "code",
   "execution_count": null,
   "metadata": {},
   "outputs": [],
   "source": []
  },
  {
   "cell_type": "code",
   "execution_count": null,
   "metadata": {},
   "outputs": [],
   "source": []
  },
  {
   "cell_type": "code",
   "execution_count": null,
   "metadata": {},
   "outputs": [],
   "source": []
  },
  {
   "cell_type": "code",
   "execution_count": null,
   "metadata": {},
   "outputs": [],
   "source": []
  },
  {
   "cell_type": "code",
   "execution_count": null,
   "metadata": {},
   "outputs": [],
   "source": []
  },
  {
   "cell_type": "code",
   "execution_count": null,
   "metadata": {},
   "outputs": [],
   "source": [
    "<nav class=\"navbar navbar-default\" role=\"navigation\">\n",
    "        <!-- Brand and toggle get grouped for better mobile display -->\n",
    "        <div class=\"navbar-header\">\n",
    "          <button type=\"button\" class=\"navbar-toggle\" data-toggle=\"collapse\" data-target=\"#admin-navbar-collapse\">\n",
    "            <span class=\"sr-only\">Toggle navigation</span>\n",
    "            <span class=\"icon-bar\"></span>\n",
    "            <span class=\"icon-bar\"></span>\n",
    "            <span class=\"icon-bar\"></span>\n",
    "          </button>\n",
    "          \n",
    "          <a class=\"navbar-brand\" href=\"/admin\">Awesome Blog</a>\n",
    "          \n",
    "        </div>\n",
    "        <!-- navbar content -->\n",
    "        <div class=\"collapse navbar-collapse\" id=\"admin-navbar-collapse\">\n",
    "          \n",
    "          <ul class=\"nav navbar-nav\">\n",
    "            \n",
    "  \n",
    "        <li class=\"active\">\n",
    "          <a href=\"/admin/\">\n",
    "  \n",
    "  \n",
    "    <i class=\"glyphicon glyphicon-home\"></i>\n",
    "  \n",
    "Home</a>\n",
    "        </li>\n",
    "        <li class=\"dropdown\">\n",
    "          <a class=\"dropdown-toggle\" data-toggle=\"dropdown\" href=\"javascript:void(0)\">\n",
    "            \n",
    "            Test<i class=\"glyphicon glyphicon-chevron-down small\"></i></a>\n",
    "          <ul class=\"dropdown-menu\">\n",
    "              \n",
    "              <li>\n",
    "              <a href=\"/admin/test1/\">\n",
    "              Hello 1</a>\n",
    "              </li>\n",
    "              \n",
    "              <li>\n",
    "              <a href=\"/admin/test2/\">\n",
    "              Hello 2</a>\n",
    "              </li>\n",
    "              \n",
    "              <li>\n",
    "              <a href=\"/admin/test3/\">\n",
    "              Hello 3</a>\n",
    "              </li>\n",
    "          </ul>\n",
    "        </li>\n",
    "      \n",
    "        <li class=\"dropdown\">\n",
    "          <a class=\"dropdown-toggle\" data-toggle=\"dropdown\" href=\"javascript:void(0)\">\n",
    "            \n",
    "            Blogs<i class=\"glyphicon glyphicon-chevron-down small\"></i></a>\n",
    "          <ul class=\"dropdown-menu\">\n",
    "              \n",
    "              <li>\n",
    "              <a href=\"/admin/blog/\">\n",
    "              \n",
    "  \n",
    "  \n",
    "    <i class=\"glyphicon glyphicon glyphicon-comment\"></i>\n",
    "  \n",
    "Blogs</a>\n",
    "              </li>\n",
    "              \n",
    "              <li>\n",
    "              <a href=\"/admin/blog_admin_view/\">\n",
    "              \n",
    "  \n",
    "  \n",
    "    <i class=\"glyphicon glyphicon glyphicon-comments\"></i>\n",
    "  \n",
    "Blog Admin</a>\n",
    "              </li>\n",
    "          </ul>\n",
    "        </li>\n",
    "      \n",
    "        <li>\n",
    "          <a href=\"/admin/user/\">\n",
    "  \n",
    "  \n",
    "    <i class=\"glyphicon glyphicon glyphicon-user\"></i>\n",
    "  \n",
    "User</a>\n",
    "        </li>\n",
    "        <li>\n",
    "          <a href=\"/admin/myadmin/\">\n",
    "  \n",
    "  \n",
    "    <i class=\"glyphicon glyphicon glyphicon-file\"></i>\n",
    "  \n",
    "Static Files</a>\n",
    "        </li>\n",
    "\n",
    "          </ul>\n",
    "          \n",
    "\n",
    "          \n",
    "          <ul class=\"nav navbar-nav navbar-right\">\n",
    "            \n",
    "  \n",
    "  \n",
    "    \n",
    "    \n",
    "      <li>\n",
    "        <a href=\"/home\">admin</a>\n",
    "      </li>\n",
    "    \n",
    "  \n",
    "    \n",
    "    \n",
    "      <li>\n",
    "        <a href=\"/logout\">Logout</a>\n",
    "      </li>\n",
    "    \n",
    "  \n",
    "\n",
    "          </ul>\n",
    "          \n",
    "          \n",
    "          \n",
    "        </div>\n",
    "      </nav>"
   ]
  },
  {
   "cell_type": "code",
   "execution_count": null,
   "metadata": {},
   "outputs": [],
   "source": []
  },
  {
   "cell_type": "code",
   "execution_count": null,
   "metadata": {},
   "outputs": [],
   "source": []
  },
  {
   "cell_type": "code",
   "execution_count": null,
   "metadata": {},
   "outputs": [],
   "source": []
  },
  {
   "cell_type": "code",
   "execution_count": null,
   "metadata": {},
   "outputs": [],
   "source": []
  },
  {
   "cell_type": "code",
   "execution_count": null,
   "metadata": {},
   "outputs": [],
   "source": []
  },
  {
   "cell_type": "code",
   "execution_count": null,
   "metadata": {},
   "outputs": [],
   "source": []
  },
  {
   "cell_type": "code",
   "execution_count": null,
   "metadata": {},
   "outputs": [],
   "source": []
  },
  {
   "cell_type": "code",
   "execution_count": null,
   "metadata": {},
   "outputs": [],
   "source": []
  },
  {
   "cell_type": "code",
   "execution_count": null,
   "metadata": {},
   "outputs": [],
   "source": []
  },
  {
   "cell_type": "code",
   "execution_count": null,
   "metadata": {},
   "outputs": [],
   "source": []
  },
  {
   "cell_type": "code",
   "execution_count": null,
   "metadata": {},
   "outputs": [],
   "source": []
  },
  {
   "cell_type": "code",
   "execution_count": null,
   "metadata": {},
   "outputs": [],
   "source": []
  },
  {
   "cell_type": "code",
   "execution_count": null,
   "metadata": {},
   "outputs": [],
   "source": []
  },
  {
   "cell_type": "code",
   "execution_count": null,
   "metadata": {},
   "outputs": [],
   "source": []
  },
  {
   "cell_type": "code",
   "execution_count": null,
   "metadata": {},
   "outputs": [],
   "source": []
  },
  {
   "cell_type": "code",
   "execution_count": null,
   "metadata": {},
   "outputs": [],
   "source": []
  },
  {
   "cell_type": "code",
   "execution_count": null,
   "metadata": {},
   "outputs": [],
   "source": []
  },
  {
   "cell_type": "code",
   "execution_count": null,
   "metadata": {},
   "outputs": [],
   "source": []
  }
 ],
 "metadata": {
  "kernelspec": {
   "display_name": "Python 3",
   "language": "python",
   "name": "python3"
  },
  "language_info": {
   "codemirror_mode": {
    "name": "ipython",
    "version": 3
   },
   "file_extension": ".py",
   "mimetype": "text/x-python",
   "name": "python",
   "nbconvert_exporter": "python",
   "pygments_lexer": "ipython3",
   "version": "3.7.6"
  }
 },
 "nbformat": 4,
 "nbformat_minor": 4
}
