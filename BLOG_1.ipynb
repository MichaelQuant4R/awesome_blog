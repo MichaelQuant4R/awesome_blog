{
 "cells": [
  {
   "cell_type": "code",
   "execution_count": 1,
   "metadata": {},
   "outputs": [],
   "source": [
    "from models import (db, User, Blog, AdminRole)"
   ]
  },
  {
   "cell_type": "code",
   "execution_count": 4,
   "metadata": {},
   "outputs": [
    {
     "data": {
      "text/plain": [
       "{'_sa_instance_state': <sqlalchemy.orm.state.InstanceState at 0x1cc6175f488>,\n",
       " 'id': 1,\n",
       " 'data': '<h1 style=\"text-align: center; \"><b><u>This is a super cool blog!</u></b></h1><p><br></p><ul><li>Apples</li><li>Oranges</li><li>Berries</li></ul><p><br></p>',\n",
       " 'timestamp': '2020/11/26 17:37:30',\n",
       " 'user_id': 2,\n",
       " 'title': 'TESTING'}"
      ]
     },
     "execution_count": 4,
     "metadata": {},
     "output_type": "execute_result"
    }
   ],
   "source": [
    "Blog.query.all()[0].__dict__"
   ]
  },
  {
   "cell_type": "code",
   "execution_count": 5,
   "metadata": {},
   "outputs": [
    {
     "data": {
      "text/plain": [
       "<Blog 1, userID 2>"
      ]
     },
     "execution_count": 5,
     "metadata": {},
     "output_type": "execute_result"
    }
   ],
   "source": [
    "blog = Blog.query.filter_by(id = 1).first()\n",
    "blog"
   ]
  },
  {
   "cell_type": "code",
   "execution_count": 12,
   "metadata": {},
   "outputs": [
    {
     "data": {
      "text/plain": [
       "'Casca'"
      ]
     },
     "execution_count": 12,
     "metadata": {},
     "output_type": "execute_result"
    }
   ],
   "source": [
    "author = blog.user.username.title()"
   ]
  },
  {
   "cell_type": "code",
   "execution_count": 3,
   "metadata": {},
   "outputs": [
    {
     "data": {
      "text/plain": [
       "2.902325581395349"
      ]
     },
     "execution_count": 3,
     "metadata": {},
     "output_type": "execute_result"
    }
   ],
   "source": [
    "624/(42 + 25 + 48 + 100)"
   ]
  },
  {
   "cell_type": "code",
   "execution_count": null,
   "metadata": {},
   "outputs": [],
   "source": []
  },
  {
   "cell_type": "code",
   "execution_count": 17,
   "metadata": {
    "collapsed": true
   },
   "outputs": [
    {
     "name": "stdout",
     "output_type": "stream",
     "text": [
      "Consectetur porro numquam porro dolore etincidunt est. Voluptatem eius magnam neque. Modi velit aliquam labore adipisci quisquam ut. Consectetur eius dolorem dolor dolor neque numquam. Velit dolorem amet adipisci. Tempora amet consectetur numquam quaerat. Ut quiquia modi porro velit tempora quisquam.\n",
      "\n",
      "Eius quisquam sit adipisci. Dolore quisquam etincidunt velit. Porro consectetur dolorem neque magnam numquam non est. Magnam ipsum neque velit. Quaerat quaerat porro numquam. Sit dolore modi dolor labore adipisci quiquia ut.\n",
      "\n",
      "Porro etincidunt etincidunt velit tempora. Eius consectetur neque modi labore est quiquia dolorem. Adipisci est velit labore non dolor voluptatem. Etincidunt quaerat sed amet ut. Consectetur eius dolor aliquam. Ut dolore velit labore magnam velit quisquam labore. Aliquam amet amet quaerat. Velit magnam aliquam dolor neque. Eius adipisci sit etincidunt quaerat.\n",
      "\n",
      "Dolor dolor dolor modi numquam. Dolorem neque tempora magnam numquam. Quiquia labore dolorem sed dolore tempora. Dolor porro adipisci dolorem etincidunt labore quiquia dolor. Dolore numquam sed quisquam. Aliquam est dolor etincidunt tempora aliquam etincidunt neque. Consectetur dolorem etincidunt adipisci est tempora modi. Dolore adipisci non tempora magnam.\n",
      "\n",
      "Tempora aliquam ut porro voluptatem modi. Ut voluptatem neque est. Aliquam ut ut amet. Consectetur dolorem aliquam non labore. Labore dolorem dolor dolor consectetur ut quiquia. Velit dolore sed dolor. Ipsum porro modi sed magnam quaerat. Labore porro modi etincidunt est. Velit amet velit ipsum magnam numquam aliquam ipsum. Numquam dolor sed dolorem voluptatem dolorem ipsum ut.\n",
      "\n",
      "Aliquam consectetur consectetur adipisci non porro sit. Ipsum non numquam modi adipisci adipisci tempora. Est magnam ut quisquam magnam dolore. Numquam magnam dolorem dolorem numquam. Amet ut ipsum est numquam. Tempora aliquam etincidunt porro quiquia. Aliquam adipisci magnam eius dolore quiquia. Non sit dolorem sit quaerat.\n"
     ]
    }
   ],
   "source": [
    "import lorem\n",
    "print(lorem.text())"
   ]
  },
  {
   "cell_type": "code",
   "execution_count": 38,
   "metadata": {},
   "outputs": [],
   "source": [
    "text = lorem.text() + lorem.text() + lorem.text()"
   ]
  },
  {
   "cell_type": "code",
   "execution_count": 39,
   "metadata": {},
   "outputs": [
    {
     "data": {
      "text/html": [
       "<p> Ipsum quaerat eius modi aliquam. Eius dolor amet dolor labore aliquam ut labore. Est consectetur ut quisquam porro magnam ipsum adipisci. Velit dolorem etincidunt ipsum quaerat voluptatem dolor tempora. Magnam numquam numquam dolorem</p> dolore sit velit. Amet aliquam ut sit amet est quaerat. Numquam tempora tempora non quaerat ipsum. Dolor dolor dolore adipisci non non magnam ut. Quisquam amet consectetur consectetur. Numquam neque quisquam adipisci adipisci sit non. Numquam tempora sed</p> magnam eius quaerat porro dolor. Etincidunt sed non velit aliquam quisquam amet dolore. Est neque dolore tempora amet. Ipsum numquam etincidunt consectetur non dolore quaerat. Adipisci modi aliquam sit</p> ipsum etincidunt dolor modi modi ipsum. Ut magnam numquam labore. Adipisci quaerat non dolor sed porro ipsum numquam. Magnam consectetur quiquia modi. Quaerat neque eius sed. Quaerat quisquam dolorem dolorem porro. Ut dolorem eius amet quaerat. Adipisci labore quaerat sit quisquam consectetur. Eius aliquam quaerat quaerat amet eius sit. Porro quiquia amet aliquam labore velit.Etincidunt etincidunt aliquam magnam. Quaerat aliquam ut quiquia velit. Etincidunt consectetur ipsum dolorem tempora ipsum dolor. Quisquam quaerat porro non ut ipsum numquam tempora. Dolorem adipisci velit ipsum non dolore. Dolore quiquia voluptatem sed tempora non. Neque porro amet dolorem dolorem consectetur adipisci quaerat. Sed tempora sit amet sit</p> adipisci voluptatem non quiquia modi. Non consectetur etincidunt ut dolorem ipsum. Consectetur labore dolore ipsum dolor numquam tempora. Est quaerat consectetur ut neque voluptatem. Ipsum magnam etincidunt amet aliquam. Quiquia tempora sit ut adipisci porro numquam</p> consectetur consectetur velit magnam. Labore quaerat sed voluptatem adipisci ut. Porro quaerat dolore ipsum amet non. Neque porro sit labore porro quisquam dolor est. Sed numquam eius dolore quiquia sed. Ut adipisci non quaerat porro</p> eius aliquam quaerat quiquia velit dolorem. Dolorem quisquam porro sed. Labore labore quiquia ut sed dolore porro. Modi magnam est non sit tempora labore etincidunt. Consectetur aliquam eius magnam. Adipisci sit non magnam adipisci adipisci sed. Porro dolore consectetur aliquam dolore dolor porro voluptatem. Aliquam ipsum adipisci sit sit quaerat</p> modi velit magnam numquam consectetur. Consectetur dolore non quisquam quiquia quiquia consectetur eius. Consectetur amet adipisci sit magnam ipsum dolor sit. Quiquia modi numquam non aliquam velit quaerat eius. Quiquia velit amet sit numquam dolorem sed dolor. Numquam quisquam sed numquam magnam eius. Magnam sed amet sit ut etincidunt est. Aliquam consectetur etincidunt porro tempora quiquia dolor</p> dolor est velit. Porro sit numquam dolore. Velit sit ut est etincidunt quisquam neque dolor. Etincidunt aliquam sit dolor quiquia quisquam. Dolor etincidunt ipsum sit velit. Dolor adipisci sit magnam labore eius porro. Neque est tempora neque etincidunt tempora aliquam. Adipisci aliquam velit labore porro quaerat quisquam quisquam.Numquam consectetur quaerat ut. Aliquam adipisci magnam modi quisquam non. Modi amet dolore quisquam. Quaerat velit ipsum dolor. Quaerat est non non numquam consectetur. Ipsum non labore tempora sed</p> ut velit adipisci amet. Tempora amet numquam dolor non voluptatem dolorem sit. Adipisci consectetur labore dolor. Voluptatem dolor est labore voluptatem magnam. Quaerat tempora quiquia modi. Numquam quiquia etincidunt eius. Consectetur neque adipisci magnam tempora porro dolor. Aliquam dolor velit dolore. Non voluptatem adipisci etincidunt</p> amet aliquam non sed. Ut porro etincidunt non. Ut non etincidunt consectetur. Ut neque modi consectetur magnam. Quaerat etincidunt eius voluptatem numquam numquam</p> ipsum modi tempora neque. Neque voluptatem aliquam aliquam. Magnam porro quisquam neque. Modi ipsum labore dolor quisquam numquam. Amet aliquam non</p> neque quaerat dolore aliquam. Dolor aliquam dolorem tempora etincidunt tempora. Quaerat voluptatem ut ipsum est sed quiquia. Ut eius eius voluptatem eius. Etincidunt modi aliquam ipsum tempora modi. Adipisci tempora quisquam sit ut eius. Modi ipsum ipsum dolore aliquam."
      ],
      "text/plain": [
       "<IPython.core.display.HTML object>"
      ]
     },
     "execution_count": 39,
     "metadata": {},
     "output_type": "execute_result"
    }
   ],
   "source": [
    "full_text = \"<p>\"\n",
    "\n",
    "for t in text.split(\" \"):\n",
    "    \n",
    "    if \"\\n\" in t:\n",
    "        \n",
    "        full_text += \"</p>\"\n",
    "        \n",
    "    else:\n",
    "        \n",
    "        full_text += \" \"+ t\n",
    "        \n",
    "full_text\n",
    "        \n",
    "from IPython.display import HTML\n",
    "\n",
    "HTML(full_text)"
   ]
  },
  {
   "cell_type": "code",
   "execution_count": null,
   "metadata": {},
   "outputs": [],
   "source": []
  },
  {
   "cell_type": "code",
   "execution_count": null,
   "metadata": {},
   "outputs": [],
   "source": []
  },
  {
   "cell_type": "code",
   "execution_count": null,
   "metadata": {},
   "outputs": [],
   "source": []
  },
  {
   "cell_type": "code",
   "execution_count": null,
   "metadata": {},
   "outputs": [],
   "source": []
  },
  {
   "cell_type": "code",
   "execution_count": null,
   "metadata": {},
   "outputs": [],
   "source": []
  },
  {
   "cell_type": "code",
   "execution_count": 30,
   "metadata": {
    "scrolled": false
   },
   "outputs": [
    {
     "data": {
      "text/plain": [
       "['Porro',\n",
       " 'est',\n",
       " 'aliquam',\n",
       " 'porro',\n",
       " 'etincidunt',\n",
       " 'velit.',\n",
       " 'Amet',\n",
       " 'dolorem',\n",
       " 'consectetur',\n",
       " 'quisquam',\n",
       " 'quaerat',\n",
       " 'labore',\n",
       " 'sit.',\n",
       " 'Consectetur',\n",
       " 'velit',\n",
       " 'non',\n",
       " 'velit',\n",
       " 'tempora',\n",
       " 'dolor.',\n",
       " 'Tempora',\n",
       " 'aliquam',\n",
       " 'non',\n",
       " 'neque',\n",
       " 'modi',\n",
       " 'numquam',\n",
       " 'quisquam',\n",
       " 'quaerat.',\n",
       " 'Etincidunt',\n",
       " 'labore',\n",
       " 'quaerat',\n",
       " 'magnam',\n",
       " 'dolor',\n",
       " 'est',\n",
       " 'porro',\n",
       " 'quisquam.',\n",
       " 'Numquam',\n",
       " 'quiquia',\n",
       " 'etincidunt',\n",
       " 'numquam.',\n",
       " 'Eius',\n",
       " 'ipsum',\n",
       " 'amet',\n",
       " 'magnam',\n",
       " 'non.',\n",
       " 'Ut',\n",
       " 'magnam',\n",
       " 'quisquam',\n",
       " 'etincidunt',\n",
       " 'dolor',\n",
       " 'labore',\n",
       " 'quiquia.',\n",
       " 'Aliquam',\n",
       " 'sit',\n",
       " 'neque',\n",
       " 'neque',\n",
       " 'velit',\n",
       " 'labore',\n",
       " 'quiquia.',\n",
       " 'Magnam',\n",
       " 'etincidunt',\n",
       " 'labore',\n",
       " 'eius.\\n\\nVoluptatem',\n",
       " 'dolor',\n",
       " 'quisquam',\n",
       " 'dolor',\n",
       " 'porro',\n",
       " 'ipsum',\n",
       " 'ut.',\n",
       " 'Consectetur',\n",
       " 'dolorem',\n",
       " 'adipisci',\n",
       " 'voluptatem.',\n",
       " 'Eius',\n",
       " 'eius',\n",
       " 'numquam',\n",
       " 'numquam',\n",
       " 'tempora.',\n",
       " 'Dolor',\n",
       " 'dolorem',\n",
       " 'ipsum',\n",
       " 'labore.',\n",
       " 'Labore',\n",
       " 'etincidunt',\n",
       " 'etincidunt',\n",
       " 'eius',\n",
       " 'ut',\n",
       " 'sed',\n",
       " 'dolor',\n",
       " 'voluptatem.',\n",
       " 'Sed',\n",
       " 'quiquia',\n",
       " 'dolore',\n",
       " 'consectetur',\n",
       " 'etincidunt',\n",
       " 'est',\n",
       " 'dolorem.\\n\\nVelit',\n",
       " 'amet',\n",
       " 'velit',\n",
       " 'amet.',\n",
       " 'Tempora',\n",
       " 'labore',\n",
       " 'sit',\n",
       " 'voluptatem',\n",
       " 'modi',\n",
       " 'consectetur',\n",
       " 'labore.',\n",
       " 'Etincidunt',\n",
       " 'dolor',\n",
       " 'eius',\n",
       " 'magnam',\n",
       " 'quisquam',\n",
       " 'dolore.',\n",
       " 'Sit',\n",
       " 'velit',\n",
       " 'consectetur',\n",
       " 'sed.',\n",
       " 'Neque',\n",
       " 'sed',\n",
       " 'labore',\n",
       " 'consectetur.',\n",
       " 'Eius',\n",
       " 'amet',\n",
       " 'aliquam',\n",
       " 'neque',\n",
       " 'velit',\n",
       " 'magnam',\n",
       " 'etincidunt.\\n\\nConsectetur',\n",
       " 'consectetur',\n",
       " 'numquam',\n",
       " 'quiquia',\n",
       " 'numquam',\n",
       " 'dolore',\n",
       " 'sed.',\n",
       " 'Magnam',\n",
       " 'modi',\n",
       " 'amet',\n",
       " 'quisquam.',\n",
       " 'Neque',\n",
       " 'sit',\n",
       " 'ut',\n",
       " 'aliquam',\n",
       " 'voluptatem',\n",
       " 'dolorem.',\n",
       " 'Eius',\n",
       " 'numquam',\n",
       " 'dolore',\n",
       " 'dolore',\n",
       " 'est',\n",
       " 'neque',\n",
       " 'voluptatem',\n",
       " 'numquam.',\n",
       " 'Modi',\n",
       " 'consectetur',\n",
       " 'neque',\n",
       " 'sed',\n",
       " 'quaerat',\n",
       " 'quisquam',\n",
       " 'quaerat.',\n",
       " 'Velit',\n",
       " 'numquam',\n",
       " 'consectetur',\n",
       " 'eius.',\n",
       " 'Consectetur',\n",
       " 'numquam',\n",
       " 'velit',\n",
       " 'dolore',\n",
       " 'dolor',\n",
       " 'numquam',\n",
       " 'sit.',\n",
       " 'Est',\n",
       " 'est',\n",
       " 'tempora',\n",
       " 'neque',\n",
       " 'eius',\n",
       " 'dolore.',\n",
       " 'Etincidunt',\n",
       " 'amet',\n",
       " 'ut',\n",
       " 'sed',\n",
       " 'ipsum',\n",
       " 'sit',\n",
       " 'porro.\\n\\nNon',\n",
       " 'est',\n",
       " 'sit',\n",
       " 'dolorem',\n",
       " 'etincidunt.',\n",
       " 'Quisquam',\n",
       " 'dolor',\n",
       " 'sit',\n",
       " 'adipisci',\n",
       " 'est',\n",
       " 'adipisci',\n",
       " 'etincidunt',\n",
       " 'amet.',\n",
       " 'Ipsum',\n",
       " 'est',\n",
       " 'est',\n",
       " 'non',\n",
       " 'dolorem.',\n",
       " 'Neque',\n",
       " 'numquam',\n",
       " 'magnam',\n",
       " 'dolore',\n",
       " 'porro',\n",
       " 'tempora',\n",
       " 'ipsum.',\n",
       " 'Est',\n",
       " 'magnam',\n",
       " 'ut',\n",
       " 'etincidunt',\n",
       " 'est',\n",
       " 'numquam.',\n",
       " 'Quiquia',\n",
       " 'labore',\n",
       " 'voluptatem',\n",
       " 'dolorem',\n",
       " 'etincidunt',\n",
       " 'modi.',\n",
       " 'Dolorem',\n",
       " 'quiquia',\n",
       " 'dolor',\n",
       " 'quiquia',\n",
       " 'dolore',\n",
       " 'porro.',\n",
       " 'Numquam',\n",
       " 'dolorem',\n",
       " 'porro',\n",
       " 'etincidunt',\n",
       " 'velit',\n",
       " 'sed',\n",
       " 'magnam',\n",
       " 'sed.\\n\\nEius',\n",
       " 'adipisci',\n",
       " 'ut',\n",
       " 'porro',\n",
       " 'amet',\n",
       " 'sit',\n",
       " 'consectetur.',\n",
       " 'Etincidunt',\n",
       " 'quaerat',\n",
       " 'magnam',\n",
       " 'numquam',\n",
       " 'quiquia.',\n",
       " 'Dolorem',\n",
       " 'porro',\n",
       " 'voluptatem',\n",
       " 'ut',\n",
       " 'est',\n",
       " 'sed',\n",
       " 'ipsum.',\n",
       " 'Dolor',\n",
       " 'aliquam',\n",
       " 'etincidunt',\n",
       " 'aliquam',\n",
       " 'sit',\n",
       " 'quaerat',\n",
       " 'etincidunt',\n",
       " 'neque.',\n",
       " 'Sit',\n",
       " 'quiquia',\n",
       " 'consectetur',\n",
       " 'eius',\n",
       " 'est',\n",
       " 'consectetur.']"
      ]
     },
     "execution_count": 30,
     "metadata": {},
     "output_type": "execute_result"
    }
   ],
   "source": [
    "text.split(\" \")"
   ]
  },
  {
   "cell_type": "code",
   "execution_count": null,
   "metadata": {},
   "outputs": [],
   "source": []
  },
  {
   "cell_type": "code",
   "execution_count": null,
   "metadata": {},
   "outputs": [],
   "source": []
  },
  {
   "cell_type": "code",
   "execution_count": 14,
   "metadata": {},
   "outputs": [],
   "source": [
    "blog.data = \"\"\"\n",
    "<h1 style=\"text-align: left; \"><b><u>This is a super cool blog!\n",
    "</u></b></h1><p><br></p><ul><li>Apples</li><li>Oranges</li><li>Berries</li></ul><p><br></p>\n",
    "<script>\n",
    "\n",
    "\n",
    "\n",
    "\n",
    "\n",
    "</script>\n",
    "\n",
    "\n",
    "\n",
    "\n",
    "\n",
    "\"\"\"\n",
    "db.session.commit()"
   ]
  },
  {
   "cell_type": "code",
   "execution_count": null,
   "metadata": {},
   "outputs": [],
   "source": []
  },
  {
   "cell_type": "code",
   "execution_count": null,
   "metadata": {},
   "outputs": [],
   "source": []
  },
  {
   "cell_type": "code",
   "execution_count": null,
   "metadata": {},
   "outputs": [],
   "source": []
  },
  {
   "cell_type": "code",
   "execution_count": null,
   "metadata": {},
   "outputs": [],
   "source": []
  },
  {
   "cell_type": "code",
   "execution_count": null,
   "metadata": {},
   "outputs": [],
   "source": []
  },
  {
   "cell_type": "code",
   "execution_count": null,
   "metadata": {},
   "outputs": [],
   "source": []
  },
  {
   "cell_type": "code",
   "execution_count": null,
   "metadata": {},
   "outputs": [],
   "source": []
  },
  {
   "cell_type": "code",
   "execution_count": null,
   "metadata": {},
   "outputs": [],
   "source": []
  },
  {
   "cell_type": "code",
   "execution_count": null,
   "metadata": {},
   "outputs": [],
   "source": []
  },
  {
   "cell_type": "code",
   "execution_count": null,
   "metadata": {},
   "outputs": [],
   "source": []
  },
  {
   "cell_type": "code",
   "execution_count": null,
   "metadata": {},
   "outputs": [],
   "source": []
  },
  {
   "cell_type": "code",
   "execution_count": null,
   "metadata": {},
   "outputs": [],
   "source": []
  },
  {
   "cell_type": "code",
   "execution_count": null,
   "metadata": {},
   "outputs": [],
   "source": []
  },
  {
   "cell_type": "code",
   "execution_count": null,
   "metadata": {},
   "outputs": [],
   "source": []
  }
 ],
 "metadata": {
  "kernelspec": {
   "display_name": "Python 3",
   "language": "python",
   "name": "python3"
  },
  "language_info": {
   "codemirror_mode": {
    "name": "ipython",
    "version": 3
   },
   "file_extension": ".py",
   "mimetype": "text/x-python",
   "name": "python",
   "nbconvert_exporter": "python",
   "pygments_lexer": "ipython3",
   "version": "3.7.6"
  }
 },
 "nbformat": 4,
 "nbformat_minor": 4
}
