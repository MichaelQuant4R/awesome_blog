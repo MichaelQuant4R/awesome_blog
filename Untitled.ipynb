{
 "cells": [
  {
   "cell_type": "code",
   "execution_count": 13,
   "metadata": {},
   "outputs": [],
   "source": [
    "from models import (db, User, Notification, Comment, Reply, Blog)\n",
    "from filters import read_datetime"
   ]
  },
  {
   "cell_type": "code",
   "execution_count": 11,
   "metadata": {},
   "outputs": [
    {
     "data": {
      "text/plain": [
       "<User casca, ID 2>"
      ]
     },
     "execution_count": 11,
     "metadata": {},
     "output_type": "execute_result"
    }
   ],
   "source": [
    "user = User.query.filter_by(id = 2).first()\n",
    "user"
   ]
  },
  {
   "cell_type": "code",
   "execution_count": 5,
   "metadata": {
    "collapsed": true
   },
   "outputs": [
    {
     "data": {
      "text/plain": [
       "{'_sa_instance_state': <sqlalchemy.orm.state.InstanceState at 0x1eef6a05488>,\n",
       " 'text_type': 'comment',\n",
       " 'timestamp': '2020/12/07 15:53:35',\n",
       " 'id': 10,\n",
       " 'text_id': 12,\n",
       " 'user_id': 2,\n",
       " 'bell': True}"
      ]
     },
     "execution_count": 5,
     "metadata": {},
     "output_type": "execute_result"
    }
   ],
   "source": [
    "user.notifications.all()[-1].__dict__"
   ]
  },
  {
   "cell_type": "code",
   "execution_count": 12,
   "metadata": {
    "collapsed": true
   },
   "outputs": [
    {
     "data": {
      "text/plain": [
       "[<Notification 1, type comment, userID 2>,\n",
       " <Notification 2, type comment, userID 2>,\n",
       " <Notification 3, type comment, userID 2>,\n",
       " <Notification 4, type comment, userID 2>,\n",
       " <Notification 5, type comment, userID 2>,\n",
       " <Notification 6, type comment, userID 2>,\n",
       " <Notification 7, type comment, userID 2>,\n",
       " <Notification 10, type comment, userID 2>]"
      ]
     },
     "execution_count": 12,
     "metadata": {},
     "output_type": "execute_result"
    }
   ],
   "source": [
    "user.notifications.all()"
   ]
  },
  {
   "cell_type": "code",
   "execution_count": 8,
   "metadata": {
    "collapsed": true
   },
   "outputs": [
    {
     "data": {
      "text/plain": [
       "{'_sa_instance_state': <sqlalchemy.orm.state.InstanceState at 0x1eef6a0e488>,\n",
       " 'text_type': 'reply',\n",
       " 'timestamp': '2020/12/08 02:42:56',\n",
       " 'id': 12,\n",
       " 'text_id': 15,\n",
       " 'user_id': 9,\n",
       " 'bell': True}"
      ]
     },
     "execution_count": 8,
     "metadata": {},
     "output_type": "execute_result"
    }
   ],
   "source": [
    "Notification.query.all()[-1].__dict__"
   ]
  },
  {
   "cell_type": "code",
   "execution_count": 17,
   "metadata": {},
   "outputs": [
    {
     "data": {
      "text/plain": [
       "[{'text_type': 'comment',\n",
       "  'author': 'tifa',\n",
       "  'user_id': 11,\n",
       "  'image': 'http://www.gravatar.com/avatar/282d9a92ea443228d126fb95cdb2c6c1?s=100&d=retro&r=g',\n",
       "  'id': 12,\n",
       "  'text': 'This is a cool reply to a cool comment.\\nNotification for alita by Tifa!',\n",
       "  'timestamp': 'an hour ago',\n",
       "  'blog_id': 1,\n",
       "  'blog_title': 'TESTING 3333',\n",
       "  'bell': True}]"
      ]
     },
     "execution_count": 17,
     "metadata": {},
     "output_type": "execute_result"
    }
   ],
   "source": [
    "user = User.query.filter_by(id = 9).first()\n",
    "\n",
    "notifications = user.notifications.all()\n",
    "\n",
    "notify_list = []\n",
    "\n",
    "if notifications != []:\n",
    "\n",
    "    notifications = notifications[::-1]\n",
    "\n",
    "    for msg in notifications:\n",
    "\n",
    "\n",
    "        if msg.text_type == \"comment\":\n",
    "\n",
    "\n",
    "            ## only for blog author\n",
    "\n",
    "            comment = Comment.query.filter_by(id = msg.text_id).first()\n",
    "\n",
    "            text_author = User.query.filter_by(id = comment.user_id).first()\n",
    "\n",
    "            notify_list.append({\"text_type\": \"comment\",\n",
    "                               \"author\": text_author.username,\n",
    "                               \"user_id\": text_author.id,\n",
    "                               \"image\": text_author.get_image(),\n",
    "                               \"id\": msg.id,\n",
    "                                \"text\": comment.comment,\n",
    "                               \"timestamp\": read_datetime(msg.timestamp),\n",
    "                               \"blog_id\": comment.blog_id,\n",
    "                               \"blog_title\": comment.blog.title,\n",
    "                               \"bell\": msg.bell})\n",
    "\n",
    "        else:\n",
    "\n",
    "            ### reply for user or blog author\n",
    "\n",
    "            reply = Reply.query.filter_by(id = msg.text_id).first()\n",
    "\n",
    "            text_author = User.query.filter_by(id = reply.user_id).first()\n",
    "\n",
    "            notify_list.append({\"text_type\": \"comment\",\n",
    "                               \"author\": text_author.username,\n",
    "                               \"user_id\": text_author.id,\n",
    "                               \"image\": text_author.get_image(),\n",
    "                               \"id\": msg.id,\n",
    "                                \"text\": reply.reply,\n",
    "                               \"timestamp\": read_datetime(msg.timestamp),\n",
    "                               \"blog_id\": reply.comment.blog_id,\n",
    "                               \"blog_title\": reply.comment.blog.title,\n",
    "                               \"bell\": msg.bell})\n",
    "\n",
    "notify_list"
   ]
  },
  {
   "cell_type": "code",
   "execution_count": 26,
   "metadata": {},
   "outputs": [],
   "source": [
    "\n",
    "\n",
    "n1 = Notification(\"comment\", 21, 2)\n",
    "n2 = Notification(\"comment\", 22, 2)\n",
    "n3 = Notification(\"comment\", 23, 2)\n",
    "n4 = Notification(\"comment\", 24, 2)\n",
    "n5 = Notification(\"comment\", 25, 2)\n",
    "db.session.add_all([n1, n2, n3, n4, n5])\n",
    "db.session.commit()"
   ]
  },
  {
   "cell_type": "code",
   "execution_count": 20,
   "metadata": {},
   "outputs": [],
   "source": [
    "c1 = Comment(\"delete notify 1\", 1, 10)\n",
    "c2 = Comment(\"delete notify 2\", 1, 5)\n",
    "c3 = Comment(\"delete notify 3\", 1, 4)\n",
    "c4 = Comment(\"delete notify 4\", 1, 6)\n",
    "c5 = Comment(\"delete notify 5\", 1, 7)\n",
    "db.session.add_all([c1, c2, c3, c4, c5])\n",
    "db.session.commit()"
   ]
  },
  {
   "cell_type": "code",
   "execution_count": 25,
   "metadata": {},
   "outputs": [
    {
     "data": {
      "text/plain": [
       "[<Comment 25, blogID 1, userID 7>,\n",
       " <Comment 24, blogID 1, userID 6>,\n",
       " <Comment 23, blogID 1, userID 4>,\n",
       " <Comment 22, blogID 1, userID 5>,\n",
       " <Comment 21, blogID 1, userID 10>,\n",
       " <Comment 20, blogID 1, userID 2>,\n",
       " <Comment 19, blogID 1, userID 2>,\n",
       " <Comment 18, blogID 1, userID 2>,\n",
       " <Comment 17, blogID 1, userID 2>,\n",
       " <Comment 16, blogID 1, userID 10>,\n",
       " <Comment 15, blogID 1, userID 11>,\n",
       " <Comment 14, blogID 1, userID 11>,\n",
       " <Comment 13, blogID 1, userID 9>,\n",
       " <Comment 12, blogID 1, userID 9>,\n",
       " <Comment 11, blogID 1, userID 9>,\n",
       " <Comment 10, blogID 1, userID 9>,\n",
       " <Comment 9, blogID 1, userID 4>,\n",
       " <Comment 8, blogID 1, userID 2>,\n",
       " <Comment 7, blogID 1, userID 8>,\n",
       " <Comment 6, blogID 1, userID 4>,\n",
       " <Comment 5, blogID 1, userID 10>,\n",
       " <Comment 4, blogID 1, userID 9>,\n",
       " <Comment 3, blogID 1, userID 7>,\n",
       " <Comment 2, blogID 1, userID 1>,\n",
       " <Comment 1, blogID 1, userID 1>]"
      ]
     },
     "execution_count": 25,
     "metadata": {},
     "output_type": "execute_result"
    }
   ],
   "source": [
    "Comment.query.all()[::-1]"
   ]
  },
  {
   "cell_type": "code",
   "execution_count": null,
   "metadata": {},
   "outputs": [],
   "source": []
  },
  {
   "cell_type": "code",
   "execution_count": null,
   "metadata": {},
   "outputs": [],
   "source": []
  },
  {
   "cell_type": "code",
   "execution_count": null,
   "metadata": {},
   "outputs": [],
   "source": []
  },
  {
   "cell_type": "code",
   "execution_count": null,
   "metadata": {},
   "outputs": [],
   "source": []
  },
  {
   "cell_type": "code",
   "execution_count": null,
   "metadata": {},
   "outputs": [],
   "source": []
  },
  {
   "cell_type": "code",
   "execution_count": 33,
   "metadata": {},
   "outputs": [
    {
     "data": {
      "text/plain": [
       "{1: 46, 7: 1, 9: 1, 10: 6}"
      ]
     },
     "execution_count": 33,
     "metadata": {},
     "output_type": "execute_result"
    }
   ],
   "source": [
    "popular_blogs = {}\n",
    "\n",
    "for blog in Blog.query.all():\n",
    "    \n",
    "    comments = blog.comments.all()\n",
    "    \n",
    "    if comments != []:\n",
    "        \n",
    "        rep_count = 0\n",
    "        \n",
    "        for rep in comments:\n",
    "            \n",
    "            rep_count += rep.replies.count()\n",
    "            \n",
    "        \n",
    "        total = len(comments) + rep_count\n",
    "        \n",
    "        \n",
    "        popular_blogs[blog.id] = total\n",
    "        \n",
    "popular_blogs\n",
    "        \n",
    "        \n",
    "        "
   ]
  },
  {
   "cell_type": "code",
   "execution_count": 29,
   "metadata": {},
   "outputs": [
    {
     "data": {
      "text/plain": [
       "0"
      ]
     },
     "execution_count": 29,
     "metadata": {},
     "output_type": "execute_result"
    }
   ],
   "source": [
    "sum([])"
   ]
  },
  {
   "cell_type": "code",
   "execution_count": 32,
   "metadata": {},
   "outputs": [
    {
     "data": {
      "text/plain": [
       "[<Comment 26, blogID 10, userID 9>]"
      ]
     },
     "execution_count": 32,
     "metadata": {},
     "output_type": "execute_result"
    }
   ],
   "source": [
    "blog = Blog.query.filter_by(id = 10).first()\n",
    "blog.comments.all()"
   ]
  },
  {
   "cell_type": "code",
   "execution_count": null,
   "metadata": {},
   "outputs": [],
   "source": []
  },
  {
   "cell_type": "code",
   "execution_count": null,
   "metadata": {},
   "outputs": [],
   "source": []
  },
  {
   "cell_type": "code",
   "execution_count": null,
   "metadata": {},
   "outputs": [],
   "source": []
  },
  {
   "cell_type": "code",
   "execution_count": null,
   "metadata": {},
   "outputs": [],
   "source": []
  },
  {
   "cell_type": "code",
   "execution_count": null,
   "metadata": {},
   "outputs": [],
   "source": []
  },
  {
   "cell_type": "code",
   "execution_count": null,
   "metadata": {},
   "outputs": [],
   "source": []
  },
  {
   "cell_type": "code",
   "execution_count": null,
   "metadata": {},
   "outputs": [],
   "source": []
  },
  {
   "cell_type": "code",
   "execution_count": null,
   "metadata": {},
   "outputs": [],
   "source": []
  },
  {
   "cell_type": "code",
   "execution_count": null,
   "metadata": {},
   "outputs": [],
   "source": []
  },
  {
   "cell_type": "code",
   "execution_count": null,
   "metadata": {},
   "outputs": [],
   "source": []
  },
  {
   "cell_type": "code",
   "execution_count": null,
   "metadata": {},
   "outputs": [],
   "source": []
  },
  {
   "cell_type": "code",
   "execution_count": null,
   "metadata": {},
   "outputs": [],
   "source": []
  },
  {
   "cell_type": "code",
   "execution_count": null,
   "metadata": {},
   "outputs": [],
   "source": []
  }
 ],
 "metadata": {
  "hide_input": false,
  "kernelspec": {
   "display_name": "Python 3",
   "language": "python",
   "name": "python3"
  },
  "language_info": {
   "codemirror_mode": {
    "name": "ipython",
    "version": 3
   },
   "file_extension": ".py",
   "mimetype": "text/x-python",
   "name": "python",
   "nbconvert_exporter": "python",
   "pygments_lexer": "ipython3",
   "version": "3.7.6"
  },
  "toc": {
   "base_numbering": 1,
   "nav_menu": {},
   "number_sections": true,
   "sideBar": true,
   "skip_h1_title": false,
   "title_cell": "Table of Contents",
   "title_sidebar": "Contents",
   "toc_cell": false,
   "toc_position": {},
   "toc_section_display": true,
   "toc_window_display": false
  }
 },
 "nbformat": 4,
 "nbformat_minor": 4
}
