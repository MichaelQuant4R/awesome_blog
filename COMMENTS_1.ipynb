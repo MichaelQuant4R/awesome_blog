{
 "cells": [
  {
   "cell_type": "code",
   "execution_count": 1,
   "metadata": {},
   "outputs": [],
   "source": [
    "from models import (db, User, Blog, AdminRole, Comment, Reply)"
   ]
  },
  {
   "cell_type": "code",
   "execution_count": 2,
   "metadata": {},
   "outputs": [
    {
     "data": {
      "text/plain": [
       "[<Comment 1, blogID 1, userID 1>,\n",
       " <Comment 2, blogID 1, userID 1>,\n",
       " <Comment 3, blogID 1, userID 7>,\n",
       " <Comment 4, blogID 1, userID 9>,\n",
       " <Comment 5, blogID 1, userID 10>,\n",
       " <Comment 6, blogID 1, userID 4>,\n",
       " <Comment 7, blogID 1, userID 8>]"
      ]
     },
     "execution_count": 2,
     "metadata": {},
     "output_type": "execute_result"
    }
   ],
   "source": [
    "Reply\n",
    "# Comment(comment, blog_id, user_id)\n",
    "# Reply(reply, comment_id, user_id)\n",
    "Comment.query.all()"
   ]
  },
  {
   "cell_type": "code",
   "execution_count": 9,
   "metadata": {},
   "outputs": [],
   "source": [
    "c1 = Comment(\"This is my first ever comment!\", 1, 1)\n",
    "c2 = Comment(\"Another cool comment here for you to read and enjoy!\", 1,1 )\n",
    "c3 = Comment(\"Rules of nature!!!!! \", 1, 7)\n",
    "c4 = Comment(\"This is not another swan song!\", 1, 9)\n",
    "c5 = Comment(\"My name is Cloud Strife. ex-soldier first class\", 1, 10)\n",
    "c6 = Comment(\"Burn you mortals to hell!\", 1, 4)\n",
    "c7 = Comment(\"Casca. It's me, Guts. We survived!\", 1, 8)\n",
    "\n",
    "\n",
    "db.session.add_all([c1, c2, c3, c4, c5, c6, c7])\n",
    "db.session.commit()"
   ]
  },
  {
   "cell_type": "code",
   "execution_count": 7,
   "metadata": {
    "collapsed": true
   },
   "outputs": [
    {
     "data": {
      "text/plain": [
       "[<User bob, ID 1>,\n",
       " <User casca, ID 2>,\n",
       " <User temp, ID 3>,\n",
       " <User akira, ID 4>,\n",
       " <User miguel, ID 5>,\n",
       " <User sarah, ID 6>,\n",
       " <User raiden, ID 7>,\n",
       " <User guts, ID 8>,\n",
       " <User alita, ID 9>,\n",
       " <User cloud, ID 10>]"
      ]
     },
     "execution_count": 7,
     "metadata": {},
     "output_type": "execute_result"
    }
   ],
   "source": [
    "User.query.all()"
   ]
  },
  {
   "cell_type": "code",
   "execution_count": 11,
   "metadata": {},
   "outputs": [
    {
     "data": {
      "text/plain": [
       "[<Blog 1, userID 2>]"
      ]
     },
     "execution_count": 11,
     "metadata": {},
     "output_type": "execute_result"
    }
   ],
   "source": [
    "Blog.query.all()"
   ]
  },
  {
   "cell_type": "code",
   "execution_count": null,
   "metadata": {},
   "outputs": [],
   "source": []
  },
  {
   "cell_type": "code",
   "execution_count": 4,
   "metadata": {},
   "outputs": [],
   "source": [
    "blog = Blog.query.filter_by(id = 1).first()\n",
    "\n",
    "comments = blog.comments.all()"
   ]
  },
  {
   "cell_type": "code",
   "execution_count": 13,
   "metadata": {},
   "outputs": [
    {
     "data": {
      "text/plain": [
       "[<Reply 1, comID 1, userID 2>, <Reply 2, comID 1, userID 8>]"
      ]
     },
     "execution_count": 13,
     "metadata": {},
     "output_type": "execute_result"
    }
   ],
   "source": [
    "comments[0].replies.all()\n",
    "# comments"
   ]
  },
  {
   "cell_type": "code",
   "execution_count": 22,
   "metadata": {},
   "outputs": [],
   "source": [
    "# r1 = Reply(\"This is the first reply!\", 1, 2)\n",
    "# r2 = Reply(\"Another reply here to this cool comment!\", 1, 8)\n",
    "# r3 = Reply(\"\"\"Python programming is the best language ever. \n",
    "#            I also like JavaScript, but Python is much easier to learn\"\"\", 2, 5)\n",
    "# r4 = Reply(\"Nah, JavaScript is where it's at!\", 2, 6)\n",
    "# r5 = Reply(\"A.I. is destroying the job market. Fact!\", 3, 7)\n",
    "# r6 = Reply(\"I don't know. I think robots are going to make things cheaper.\", 9, 2)\n",
    "# r7 = Reply(\"Where is Tifa gone to?\", 4, 10)\n",
    "# r8 = Reply(\"I'm here, cloud!\", 4, 11)\n",
    "\n",
    "# db.session.add_all([r1, r2, r3, r4, r5, r6, r7, r8])\n",
    "# db.session.commit()\n",
    "\n",
    "\n",
    "r9 = Reply(\"I'm a cyborg with synthetic blood\", 1, 7)\n",
    "r10 = Reply(\"Well I am too! We've lots in common\", 1, 9)\n",
    "\n",
    "db.session.add_all([r9, r10])\n",
    "db.session.commit()"
   ]
  },
  {
   "cell_type": "code",
   "execution_count": 11,
   "metadata": {},
   "outputs": [
    {
     "data": {
      "text/plain": [
       "[<User bob, ID 1>,\n",
       " <User casca, ID 2>,\n",
       " <User temp, ID 3>,\n",
       " <User akira, ID 4>,\n",
       " <User miguel, ID 5>,\n",
       " <User sarah, ID 6>,\n",
       " <User raiden, ID 7>,\n",
       " <User guts, ID 8>,\n",
       " <User alita, ID 9>,\n",
       " <User cloud, ID 10>,\n",
       " <User tifa, ID 11>]"
      ]
     },
     "execution_count": 11,
     "metadata": {},
     "output_type": "execute_result"
    }
   ],
   "source": [
    "User.query.all()"
   ]
  },
  {
   "cell_type": "code",
   "execution_count": 23,
   "metadata": {},
   "outputs": [
    {
     "name": "stdout",
     "output_type": "stream",
     "text": [
      "<Comment 7, blogID 1, userID 8>\n",
      "<Comment 6, blogID 1, userID 4>\n",
      "<Comment 5, blogID 1, userID 10>\n",
      "<Comment 4, blogID 1, userID 9>\n",
      "<Comment 3, blogID 1, userID 7>\n",
      "<Comment 2, blogID 1, userID 1>\n",
      "<Comment 1, blogID 1, userID 1>\n"
     ]
    },
    {
     "data": {
      "text/plain": [
       "[{'comment': \"Casca. It's me, Guts. We survived!\",\n",
       "  'id': 7,\n",
       "  'blog_id': 1,\n",
       "  'user_id': 8,\n",
       "  'username': 'guts',\n",
       "  'timestamp': '2020/11/28 16:29:15',\n",
       "  'replies': []},\n",
       " {'comment': 'Burn you mortals to hell!',\n",
       "  'id': 6,\n",
       "  'blog_id': 1,\n",
       "  'user_id': 4,\n",
       "  'username': 'akira',\n",
       "  'timestamp': '2020/11/28 16:29:15',\n",
       "  'replies': []},\n",
       " {'comment': 'My name is Cloud Strife. ex-soldier first class',\n",
       "  'id': 5,\n",
       "  'blog_id': 1,\n",
       "  'user_id': 10,\n",
       "  'username': 'cloud',\n",
       "  'timestamp': '2020/11/28 16:29:15',\n",
       "  'replies': []},\n",
       " {'comment': 'This is not another swan song!',\n",
       "  'id': 4,\n",
       "  'blog_id': 1,\n",
       "  'user_id': 9,\n",
       "  'username': 'alita',\n",
       "  'timestamp': '2020/11/28 16:29:15',\n",
       "  'replies': [{'reply': 'Where is Tifa gone to?',\n",
       "    'id': 7,\n",
       "    'comment_id': 4,\n",
       "    'blog_id': 1,\n",
       "    'user_id': 9,\n",
       "    'username': 'alita',\n",
       "    'timestamp': '2020/11/28 17:03:37'},\n",
       "   {'reply': \"I'm here, cloud!\",\n",
       "    'id': 8,\n",
       "    'comment_id': 4,\n",
       "    'blog_id': 1,\n",
       "    'user_id': 9,\n",
       "    'username': 'alita',\n",
       "    'timestamp': '2020/11/28 17:03:37'}]},\n",
       " {'comment': 'Rules of nature!!!!! ',\n",
       "  'id': 3,\n",
       "  'blog_id': 1,\n",
       "  'user_id': 7,\n",
       "  'username': 'raiden',\n",
       "  'timestamp': '2020/11/28 16:29:15',\n",
       "  'replies': [{'reply': 'A.I. is destroying the job market. Fact!',\n",
       "    'id': 5,\n",
       "    'comment_id': 3,\n",
       "    'blog_id': 1,\n",
       "    'user_id': 7,\n",
       "    'username': 'raiden',\n",
       "    'timestamp': '2020/11/28 17:03:37'}]},\n",
       " {'comment': 'Another cool comment here for you to read and enjoy!',\n",
       "  'id': 2,\n",
       "  'blog_id': 1,\n",
       "  'user_id': 1,\n",
       "  'username': 'bob',\n",
       "  'timestamp': '2020/11/28 16:29:15',\n",
       "  'replies': [{'reply': 'Python programming is the best language ever. \\n           I also like JavaScript, but Python is much easier to learn',\n",
       "    'id': 3,\n",
       "    'comment_id': 2,\n",
       "    'blog_id': 1,\n",
       "    'user_id': 1,\n",
       "    'username': 'bob',\n",
       "    'timestamp': '2020/11/28 17:03:37'},\n",
       "   {'reply': \"Nah, JavaScript is where it's at!\",\n",
       "    'id': 4,\n",
       "    'comment_id': 2,\n",
       "    'blog_id': 1,\n",
       "    'user_id': 1,\n",
       "    'username': 'bob',\n",
       "    'timestamp': '2020/11/28 17:03:37'}]},\n",
       " {'comment': 'This is my first ever comment!',\n",
       "  'id': 1,\n",
       "  'blog_id': 1,\n",
       "  'user_id': 1,\n",
       "  'username': 'bob',\n",
       "  'timestamp': '2020/11/28 16:29:15',\n",
       "  'replies': [{'reply': 'This is the first reply!',\n",
       "    'id': 1,\n",
       "    'comment_id': 1,\n",
       "    'blog_id': 1,\n",
       "    'user_id': 1,\n",
       "    'username': 'bob',\n",
       "    'timestamp': '2020/11/28 17:03:37'},\n",
       "   {'reply': 'Another reply here to this cool comment!',\n",
       "    'id': 2,\n",
       "    'comment_id': 1,\n",
       "    'blog_id': 1,\n",
       "    'user_id': 1,\n",
       "    'username': 'bob',\n",
       "    'timestamp': '2020/11/28 17:03:37'},\n",
       "   {'reply': \"I'm a cyborg with synthetic blood\",\n",
       "    'id': 9,\n",
       "    'comment_id': 1,\n",
       "    'blog_id': 1,\n",
       "    'user_id': 1,\n",
       "    'username': 'bob',\n",
       "    'timestamp': '2020/11/28 17:24:20'},\n",
       "   {'reply': \"Well I am too! We've lots in common\",\n",
       "    'id': 10,\n",
       "    'comment_id': 1,\n",
       "    'blog_id': 1,\n",
       "    'user_id': 1,\n",
       "    'username': 'bob',\n",
       "    'timestamp': '2020/11/28 17:24:20'}]}]"
      ]
     },
     "execution_count": 23,
     "metadata": {},
     "output_type": "execute_result"
    }
   ],
   "source": [
    "comment_list = []\n",
    "for comm in comments[::-1]:\n",
    "    user = User.query.filter_by(id = comm.user_id).first()\n",
    "    \n",
    "    replies = comm.replies.all()\n",
    "    \n",
    "    if replies != []:\n",
    "        \n",
    "        reply_list = []\n",
    "        \n",
    "        for rep in replies:\n",
    "            \n",
    "            reply_list.append({\"reply\": rep.reply,\n",
    "                            \"id\": rep.id,\n",
    "                             \"comment_id\": comm.id,\n",
    "                             \"blog_id\": comm.blog_id,\n",
    "                            \"user_id\": user.id,\n",
    "                            \"username\": user.username,\n",
    "                            \"timestamp\": rep.timestamp})\n",
    "        comment_list.append({\"comment\": comm.comment,\n",
    "            \"id\": comm.id,\n",
    "             \"blog_id\": comm.blog_id,\n",
    "            \"user_id\": user.id,\n",
    "            \"username\": user.username,\n",
    "            \"timestamp\": comm.timestamp,\n",
    "            \"replies\": reply_list})\n",
    "\n",
    "    else:\n",
    "        \n",
    "        user = User.query.filter_by(id = comm.user_id).first()\n",
    "        \n",
    "        comment_list.append({\"comment\": comm.comment,\n",
    "                    \"id\": comm.id,\n",
    "                     \"blog_id\": comm.blog_id,\n",
    "                    \"user_id\": user.id,\n",
    "                    \"username\": user.username,\n",
    "                    \"timestamp\": comm.timestamp,\n",
    "                    \"replies\": []})"
   ]
  },
  {
   "cell_type": "code",
   "execution_count": 26,
   "metadata": {},
   "outputs": [
    {
     "data": {
      "text/plain": [
       "4"
      ]
     },
     "execution_count": 26,
     "metadata": {},
     "output_type": "execute_result"
    }
   ],
   "source": [
    "len(comment_list[-1][\"replies\"])"
   ]
  },
  {
   "cell_type": "code",
   "execution_count": null,
   "metadata": {},
   "outputs": [],
   "source": []
  },
  {
   "cell_type": "code",
   "execution_count": null,
   "metadata": {},
   "outputs": [],
   "source": []
  },
  {
   "cell_type": "code",
   "execution_count": null,
   "metadata": {},
   "outputs": [],
   "source": []
  },
  {
   "cell_type": "code",
   "execution_count": null,
   "metadata": {},
   "outputs": [],
   "source": []
  },
  {
   "cell_type": "code",
   "execution_count": null,
   "metadata": {},
   "outputs": [],
   "source": []
  },
  {
   "cell_type": "code",
   "execution_count": null,
   "metadata": {},
   "outputs": [],
   "source": []
  },
  {
   "cell_type": "code",
   "execution_count": null,
   "metadata": {},
   "outputs": [],
   "source": []
  },
  {
   "cell_type": "code",
   "execution_count": null,
   "metadata": {},
   "outputs": [],
   "source": []
  },
  {
   "cell_type": "code",
   "execution_count": null,
   "metadata": {},
   "outputs": [],
   "source": []
  },
  {
   "cell_type": "code",
   "execution_count": null,
   "metadata": {},
   "outputs": [],
   "source": []
  },
  {
   "cell_type": "code",
   "execution_count": null,
   "metadata": {},
   "outputs": [],
   "source": []
  },
  {
   "cell_type": "code",
   "execution_count": null,
   "metadata": {},
   "outputs": [],
   "source": []
  },
  {
   "cell_type": "code",
   "execution_count": null,
   "metadata": {},
   "outputs": [],
   "source": []
  },
  {
   "cell_type": "code",
   "execution_count": null,
   "metadata": {},
   "outputs": [],
   "source": []
  },
  {
   "cell_type": "code",
   "execution_count": null,
   "metadata": {},
   "outputs": [],
   "source": []
  },
  {
   "cell_type": "code",
   "execution_count": null,
   "metadata": {},
   "outputs": [],
   "source": []
  },
  {
   "cell_type": "code",
   "execution_count": null,
   "metadata": {},
   "outputs": [],
   "source": []
  },
  {
   "cell_type": "code",
   "execution_count": null,
   "metadata": {},
   "outputs": [],
   "source": []
  },
  {
   "cell_type": "code",
   "execution_count": null,
   "metadata": {},
   "outputs": [],
   "source": []
  },
  {
   "cell_type": "code",
   "execution_count": null,
   "metadata": {},
   "outputs": [],
   "source": []
  }
 ],
 "metadata": {
  "kernelspec": {
   "display_name": "Python 3",
   "language": "python",
   "name": "python3"
  },
  "language_info": {
   "codemirror_mode": {
    "name": "ipython",
    "version": 3
   },
   "file_extension": ".py",
   "mimetype": "text/x-python",
   "name": "python",
   "nbconvert_exporter": "python",
   "pygments_lexer": "ipython3",
   "version": "3.7.6"
  }
 },
 "nbformat": 4,
 "nbformat_minor": 4
}
